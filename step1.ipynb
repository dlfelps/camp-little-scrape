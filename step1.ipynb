{
 "cells": [
  {
   "cell_type": "code",
   "execution_count": 1,
   "id": "ca813f66-b830-45be-b272-9073fa3ccf06",
   "metadata": {},
   "outputs": [],
   "source": [
    "from selenium import webdriver\n",
    "from selenium.webdriver.chrome.options import Options\n",
    "from selenium.webdriver.support.ui import WebDriverWait\n",
    "from selenium.webdriver.common.by import By\n",
    "from selenium.webdriver.support import expected_conditions as EC\n",
    "import re"
   ]
  },
  {
   "cell_type": "code",
   "execution_count": 4,
   "id": "94078fae-87f3-411e-b18d-b42cb0e50f98",
   "metadata": {},
   "outputs": [],
   "source": [
    "# from https://cosmocode.io/how-to-connect-selenium-to-an-existing-browser-that-was-opened-manually/\n",
    "# chrome_options = Options()\n",
    "# chrome_options.accept_insecure_certs = True\n",
    "# chrome_options.add_experimental_option(\"debuggerAddress\", \"127.0.0.1:9222\")\n",
    "# chrome_options.add_argument(\"--user-data-dir=C:\\\\Users\\\\felpsdl\\\\Projects\\\\python\\\\scraper\\\\chrome_profile\")\n",
    "# chrome_options.add_argument(\"--start-maximized\")\n",
    "# chrome_options.add_argument(\"--headless=new\")\n",
    "# chrome_options.add_experimental_option(\"detach\", True)\n",
    "\n",
    "options = Options()\n",
    "options.accept_insecure_certs = True\n",
    "options.binary_location = \"C:\\\\Program Files\\\\Google\\\\Chrome\\\\Application\\\\chrome.exe\"    #chrome binary location specified here\n",
    "options.add_argument(\"--user-data-dir=C:\\\\Users\\\\dlfel\\\\Projects\\\\python\\\\camp-little-scrape\\\\ChromeProfile\")\n",
    "# options.add_argument(\"--headless=new\")\n",
    "options.add_argument(\"--no-sandbox\") #bypass OS security model\n",
    "options.add_argument(\"--disable-dev-shm-usage\") #overcome limited resource problems\n",
    "options.add_experimental_option(\"excludeSwitches\", [\"enable-automation\"])\n",
    "options.add_experimental_option('useAutomationExtension', False)\n",
    "options.add_experimental_option(\"detach\", True)\n",
    "\n",
    "links = []\n",
    "driver = webdriver.Chrome(options=options)\n",
    "driver.get(\"https://fairfax.usedirect.com/FairfaxFCPAWeb/ACTIVITIES/Search.aspx?category_name=CAMPS\")\n"
   ]
  },
  {
   "cell_type": "markdown",
   "id": "f177c2d0-c753-45bc-b96d-4573860de792",
   "metadata": {},
   "source": [
    "# Manual instructions\n",
    "1. Manually execute the cell below\n",
    "2. Go to browser and advance to the next page\n",
    "3. Repeat until all pages scraped"
   ]
  },
  {
   "cell_type": "code",
   "execution_count": 8,
   "id": "31c94541-078d-4aa2-8d0c-c28a60d5d35e",
   "metadata": {},
   "outputs": [
    {
     "name": "stdout",
     "output_type": "stream",
     "text": [
      "63\n"
     ]
    }
   ],
   "source": [
    "elements = driver.find_elements(By.CLASS_NAME, 'sign-up-btn')\n",
    "print(len(elements))\n",
    "\n",
    "for e in elements:\n",
    "    links.append(e.get_property(\"href\"))\n"
   ]
  },
  {
   "cell_type": "markdown",
   "id": "f74d8a72-2c87-4664-85b8-14d665d11b6e",
   "metadata": {},
   "source": [
    "# You may now close browser"
   ]
  },
  {
   "cell_type": "code",
   "execution_count": 9,
   "id": "5e46f6c7-ad72-4835-8b86-9b6291107bfd",
   "metadata": {},
   "outputs": [],
   "source": [
    "# filter links\n",
    "session_re = re.compile(r\"session_id=(\\d+)\")\n",
    "valid_sessions = list(filter(lambda x: session_re.search(x), links))"
   ]
  },
  {
   "cell_type": "code",
   "execution_count": 10,
   "id": "a0ae4da6-b2c7-4dbf-bc21-fd967e45e747",
   "metadata": {},
   "outputs": [],
   "source": [
    "\n",
    "with open('links.txt', 'w', newline='') as file:\n",
    "    for s in valid_sessions:\n",
    "        file.write(s)\n",
    "        file.write('\\n')\n"
   ]
  },
  {
   "cell_type": "markdown",
   "id": "8344f148-ce8a-435c-b556-225f93018852",
   "metadata": {},
   "source": [
    "# Once the links are extracted, use httpx + beautifulsoup to get all the info"
   ]
  }
 ],
 "metadata": {
  "kernelspec": {
   "display_name": "Python 3 (ipykernel)",
   "language": "python",
   "name": "python3"
  },
  "language_info": {
   "codemirror_mode": {
    "name": "ipython",
    "version": 3
   },
   "file_extension": ".py",
   "mimetype": "text/x-python",
   "name": "python",
   "nbconvert_exporter": "python",
   "pygments_lexer": "ipython3",
   "version": "3.11.3"
  }
 },
 "nbformat": 4,
 "nbformat_minor": 5
}
